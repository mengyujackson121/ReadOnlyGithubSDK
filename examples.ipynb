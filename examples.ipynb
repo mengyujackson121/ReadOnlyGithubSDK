{
 "cells": [
  {
   "cell_type": "code",
   "execution_count": 1,
   "metadata": {
    "collapsed": true,
    "pycharm": {
     "name": "#%%\n"
    }
   },
   "outputs": [
    {
     "name": "stdout",
     "output_type": "stream",
     "text": [
      "[User(username='olivermichel'),\n",
      " User(username='intfrr'),\n",
      " User(username='karpiu'),\n",
      " User(username='KevinHock'),\n",
      " User(username='gregra81'),\n",
      " User(username='maparham'),\n",
      " User(username='angusshire'),\n",
      " User(username='mostafaei'),\n",
      " User(username='DavidsBot'),\n",
      " User(username='TomSpencerLondon'),\n",
      " User(username='EAsencios'),\n",
      " User(username='sankaart'),\n",
      " User(username='MahtabAlghasi'),\n",
      " User(username='LoricAndre'),\n",
      " User(username='Marzieh-aliakbarpour'),\n",
      " User(username='Real-ZeminJiang')]\n",
      "[User(username='hadley'),\n",
      " User(username='olivermichel'),\n",
      " User(username='alistra'),\n",
      " User(username='wiura'),\n",
      " User(username='karpathy'),\n",
      " User(username='epyon'),\n",
      " User(username='dj3500'),\n",
      " User(username='arekolek'),\n",
      " User(username='mjanczyk'),\n",
      " User(username='karpiu'),\n",
      " User(username='omarcin'),\n",
      " User(username='rg0now'),\n",
      " User(username='maparham'),\n",
      " User(username='alancucki'),\n",
      " User(username='mostafaei'),\n",
      " User(username='DavidsBot'),\n",
      " User(username='DamianStraszak'),\n",
      " User(username='vamsiDT'),\n",
      " User(username='MahtabAlghasi'),\n",
      " User(username='olegfafurin'),\n",
      " User(username='labbealexandre'),\n",
      " User(username='michal-krasowski-red'),\n",
      " User(username='LoricAndre'),\n",
      " User(username='darya-melnyk'),\n",
      " User(username='AtoliH')]\n"
     ]
    }
   ],
   "source": [
    "from collections import Counter\n",
    "from readonly_github_sdk.model import User\n",
    "from readonly_github_sdk.endpoints import get_repos\n",
    "\n",
    "print(get_repos(\"foo\"))\n",
    "\n",
    "u = User(\"foo\")\n",
    "lang_bytes = Counter()\n",
    "for r in u.repos:\n",
    "    lang_bytes += Counter(r.languages)\n",
    "print(lang_bytes)"
   ]
  }
 ],
 "metadata": {
  "kernelspec": {
   "display_name": "Python 3",
   "language": "python",
   "name": "python3"
  },
  "language_info": {
   "codemirror_mode": {
    "name": "ipython",
    "version": 2
   },
   "file_extension": ".py",
   "mimetype": "text/x-python",
   "name": "python",
   "nbconvert_exporter": "python",
   "pygments_lexer": "ipython2",
   "version": "2.7.6"
  }
 },
 "nbformat": 4,
 "nbformat_minor": 0
}